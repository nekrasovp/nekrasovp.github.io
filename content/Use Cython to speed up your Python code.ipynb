{
 "cells": [
  {
   "cell_type": "markdown",
   "metadata": {},
   "source": [
    "If we have a code on pure Python usually we can speed it up with some tiny changes using Cython.\n",
    "\n",
    "In its core Cython is an intermediate between Python and C/C++. It allows you to write your Python code with minor changes and then translate it into C code.\n",
    "\n",
    "As usual im referencing to [official Cython documentation](https://cython.readthedocs.io/en/latest/) with all details."
   ]
  },
  {
   "cell_type": "markdown",
   "metadata": {},
   "source": [
    "The first thing we will do we will write our functions.\n",
    "\n",
    "Lets use [number calculations](https://nekrasovp.github.io/number-sequences.html) from other atricle in this blog."
   ]
  },
  {
   "cell_type": "markdown",
   "metadata": {},
   "source": [
    "We will start with recursive calculation."
   ]
  },
  {
   "cell_type": "markdown",
   "metadata": {},
   "source": [
    "```python\n",
    "# stern_python.py\n",
    "\n",
    "def stern_n(n):\n",
    "    if n < 2:\n",
    "        return n\n",
    "    elif n % 2 == 0:\n",
    "        return stern_n(n/2)\n",
    "    else:\n",
    "        return stern_n((n - 1)/2) + stern_n((n + 1)/2)\n",
    "\n",
    "def run_stern(n):\n",
    "    stern_array = list()\n",
    "    for i in range(n):\n",
    "        stern_array.append(int(stern_n(i)))\n",
    "    return stern_array\n",
    "\n",
    "```"
   ]
  },
  {
   "cell_type": "code",
   "execution_count": 10,
   "metadata": {},
   "outputs": [],
   "source": [
    "import stern_python as python_s"
   ]
  },
  {
   "cell_type": "markdown",
   "metadata": {},
   "source": [
    "Our Cython equivalent of the same functions look very similar.\n",
    "For that we will create new file."
   ]
  },
  {
   "cell_type": "markdown",
   "metadata": {},
   "source": [
    "```python\n",
    "# stern_cython.pyx\n",
    "\n",
    "cpdef int stern_n(int n):\n",
    "    if n < 2:\n",
    "        return n\n",
    "    elif n % 2 == 0:\n",
    "        return stern_n(n/2)\n",
    "    else:\n",
    "        return stern_n((n - 1)/2) + stern_n((n + 1)/2)\n",
    "\n",
    "cpdef run_stern(int n):\n",
    "    stern_array = list()\n",
    "    for i in range(n):\n",
    "        stern_array.append(stern_n(i))\n",
    "    return stern_array\n",
    "```"
   ]
  },
  {
   "cell_type": "markdown",
   "metadata": {},
   "source": [
    "Next we will take list manupulation function with lazy calculation."
   ]
  },
  {
   "cell_type": "markdown",
   "metadata": {},
   "source": [
    "```python\n",
    "# hofsconwc_python.py\n",
    "\n",
    "def hofsconwc(i):\n",
    "    hf = []\n",
    "    for n in range(i):\n",
    "        if n <= 2:\n",
    "            hf.append(1)\n",
    "        else:\n",
    "            hf.append(hf[hf[n-1]] + hf[n - hf[n-2]-1])\n",
    "    return hf\n",
    "```"
   ]
  },
  {
   "cell_type": "code",
   "execution_count": 19,
   "metadata": {},
   "outputs": [],
   "source": [
    "import hofsconwc_python as python_h"
   ]
  },
  {
   "cell_type": "markdown",
   "metadata": {},
   "source": [
    "and our Cython variant."
   ]
  },
  {
   "cell_type": "markdown",
   "metadata": {},
   "source": [
    "```python\n",
    "# hofsconwc_python.pyx\n",
    "\n",
    "cpdef hofsconwc(int i):\n",
    "    hf = []\n",
    "    for n in range(i):\n",
    "        if n <= 2:\n",
    "            hf.append(1)\n",
    "        else:\n",
    "            hf.append(hf[hf[n-1]] + hf[n - hf[n-2]-1])\n",
    "    return hf\n",
    "```"
   ]
  },
  {
   "cell_type": "markdown",
   "metadata": {},
   "source": [
    "Next we will create *setup.py* file which will compile the Cython into C code.\n",
    "\n",
    "We will use *.pyx as filename because we wanna try multiple files compilation."
   ]
  },
  {
   "cell_type": "markdown",
   "metadata": {},
   "source": [
    "```python\n",
    "# setup.py\n",
    "\n",
    "from distutils.core import setup\n",
    "from Cython.Build import cythonize\n",
    "\n",
    "setup(name='Testing calculation',\n",
    "      ext_modules=cythonize('*.pyx'),\n",
    "      requires=['Cython'], )\n",
    "```"
   ]
  },
  {
   "cell_type": "code",
   "execution_count": 15,
   "metadata": {},
   "outputs": [
    {
     "name": "stdout",
     "output_type": "stream",
     "text": [
      "total 224\r\n",
      "-rw-rw-r-- 1 pavel pavel    187 ноя  7 13:21  hofsconwc_cython.pyx\r\n",
      "-rw-rw-r-- 1 pavel pavel    180 ноя  7 13:20  hofsconwc_python.py\r\n",
      "drwxrwxr-x 2 pavel pavel   4096 ноя  7 13:31  __pycache__\r\n",
      "-rw-r--r-- 1 pavel pavel     39 окт 22 18:46  README.md\r\n",
      "-rw-rw-r-- 1 pavel pavel   1006 ноя  7 12:20  run_test.py\r\n",
      "-rw-rw-r-- 1 pavel pavel    170 ноя  7 12:14  setup.py\r\n",
      "-rw-rw-r-- 1 pavel pavel    305 окт 22 20:41  stern_cython.pyx\r\n",
      "-rw-rw-r-- 1 pavel pavel    295 окт 22 20:01  stern_python.py\r\n",
      "-rw-r--r-- 1 pavel pavel 189442 ноя  7 13:48 'Use Cython to speedup your Python code.ipynb'\r\n",
      "drwxrwxr-x 7 pavel pavel   4096 ноя  7 12:32  venv\r\n"
     ]
    }
   ],
   "source": [
    "!ls -ll"
   ]
  },
  {
   "cell_type": "markdown",
   "metadata": {},
   "source": [
    "All we need to do is just perform"
   ]
  },
  {
   "cell_type": "code",
   "execution_count": 17,
   "metadata": {},
   "outputs": [
    {
     "name": "stdout",
     "output_type": "stream",
     "text": [
      "running build_ext\r\n"
     ]
    }
   ],
   "source": [
    "!python setup.py build_ext --inplace"
   ]
  },
  {
   "cell_type": "code",
   "execution_count": 18,
   "metadata": {},
   "outputs": [
    {
     "name": "stdout",
     "output_type": "stream",
     "text": [
      "total 680\r\n",
      "drwxrwxr-x 3 pavel pavel   4096 ноя  7 13:48  build\r\n",
      "-rw-rw-r-- 1 pavel pavel 132506 ноя  7 13:48  hofsconwc_cython.c\r\n",
      "-rwxrwxr-x 1 pavel pavel 119808 ноя  7 13:48  hofsconwc_cython.cpython-37m-x86_64-linux-gnu.so\r\n",
      "-rw-rw-r-- 1 pavel pavel    187 ноя  7 13:21  hofsconwc_cython.pyx\r\n",
      "-rw-rw-r-- 1 pavel pavel    180 ноя  7 13:20  hofsconwc_python.py\r\n",
      "drwxrwxr-x 2 pavel pavel   4096 ноя  7 13:31  __pycache__\r\n",
      "-rw-r--r-- 1 pavel pavel     39 окт 22 18:46  README.md\r\n",
      "-rw-rw-r-- 1 pavel pavel   1006 ноя  7 12:20  run_test.py\r\n",
      "-rw-rw-r-- 1 pavel pavel    170 ноя  7 12:14  setup.py\r\n",
      "-rw-rw-r-- 1 pavel pavel 109538 ноя  7 13:48  stern_cython.c\r\n",
      "-rwxrwxr-x 1 pavel pavel  93632 ноя  7 13:48  stern_cython.cpython-37m-x86_64-linux-gnu.so\r\n",
      "-rw-rw-r-- 1 pavel pavel    305 окт 22 20:41  stern_cython.pyx\r\n",
      "-rw-rw-r-- 1 pavel pavel    295 окт 22 20:01  stern_python.py\r\n",
      "-rw-r--r-- 1 pavel pavel 189442 ноя  7 13:48 'Use Cython to speedup your Python code.ipynb'\r\n",
      "drwxrwxr-x 7 pavel pavel   4096 ноя  7 12:32  venv\r\n"
     ]
    }
   ],
   "source": [
    "!ls -ll"
   ]
  },
  {
   "cell_type": "markdown",
   "metadata": {},
   "source": [
    "It works! Now we can import Cython functions."
   ]
  },
  {
   "cell_type": "code",
   "execution_count": 20,
   "metadata": {},
   "outputs": [],
   "source": [
    "import stern_cython as cython_s\n",
    "import hofsconwc_cython as cython_h"
   ]
  },
  {
   "cell_type": "markdown",
   "metadata": {},
   "source": [
    "So we are ready to test our calculations with some magic functions."
   ]
  },
  {
   "cell_type": "code",
   "execution_count": 28,
   "metadata": {},
   "outputs": [
    {
     "name": "stdout",
     "output_type": "stream",
     "text": [
      "757 ms ± 39.2 ms per loop (mean ± std. dev. of 7 runs, 1 loop each)\n"
     ]
    }
   ],
   "source": [
    "%timeit _ = python_s.run_stern(10000)"
   ]
  },
  {
   "cell_type": "code",
   "execution_count": 29,
   "metadata": {},
   "outputs": [
    {
     "name": "stdout",
     "output_type": "stream",
     "text": [
      "7.26 ms ± 80.9 µs per loop (mean ± std. dev. of 7 runs, 100 loops each)\n"
     ]
    }
   ],
   "source": [
    "%timeit _ = cython_s.run_stern(10000)"
   ]
  },
  {
   "cell_type": "markdown",
   "metadata": {},
   "source": [
    "Yes we have **x100** time speed up with just type definition and precompiling our functions.\n",
    "\n",
    "But what if we will try more real functions like hofsconwc without useless recursion."
   ]
  },
  {
   "cell_type": "code",
   "execution_count": 31,
   "metadata": {},
   "outputs": [
    {
     "name": "stdout",
     "output_type": "stream",
     "text": [
      "2.75 ms ± 375 µs per loop (mean ± std. dev. of 7 runs, 100 loops each)\n"
     ]
    }
   ],
   "source": [
    "%timeit _ = python_h.hofsconwc(10000)"
   ]
  },
  {
   "cell_type": "code",
   "execution_count": 32,
   "metadata": {},
   "outputs": [
    {
     "name": "stdout",
     "output_type": "stream",
     "text": [
      "1.4 ms ± 26.2 µs per loop (mean ± std. dev. of 7 runs, 1000 loops each)\n"
     ]
    }
   ],
   "source": [
    "%timeit _ = cython_h.hofsconwc(10000)"
   ]
  },
  {
   "cell_type": "markdown",
   "metadata": {},
   "source": [
    "Yes so easy we get **x2** speed up for our calculations."
   ]
  },
  {
   "cell_type": "code",
   "execution_count": null,
   "metadata": {},
   "outputs": [],
   "source": []
  }
 ],
 "metadata": {
  "kernelspec": {
   "display_name": "Python 3",
   "language": "python",
   "name": "python3"
  },
  "language_info": {
   "codemirror_mode": {
    "name": "ipython",
    "version": 3
   },
   "file_extension": ".py",
   "mimetype": "text/x-python",
   "name": "python",
   "nbconvert_exporter": "python",
   "pygments_lexer": "ipython3",
   "version": "3.7.3"
  },
  "pycharm": {
   "stem_cell": {
    "cell_type": "raw",
    "source": [],
    "metadata": {
     "collapsed": false
    }
   }
  }
 },
 "nbformat": 4,
 "nbformat_minor": 2
}