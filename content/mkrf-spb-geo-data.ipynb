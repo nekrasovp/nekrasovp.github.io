{
 "cells": [
  {
   "cell_type": "markdown",
   "metadata": {},
   "source": [
    "В этой статье, мы углубимся в изучение Jupyter Interactive Widgets и Ipyleaflet package, для визуализации картографических данных в Jupyter notebook.\n",
    "\n",
    "Мы будем использовать интересные данные из [Единый государственный реестр объектов культурного наследия(памятников истории и культуры) народов РФ](https://opendata.mkrf.ru/opendata/7705851331-egrkn/)"
   ]
  },
  {
   "cell_type": "code",
   "execution_count": 1,
   "metadata": {},
   "outputs": [],
   "source": [
    "import zipfile, json\n",
    "import pandas as pd\n",
    "from ipyleaflet import AwesomeIcon, Map, Marker, MarkerCluster, Heatmap, WidgetControl, basemaps, basemap_to_tiles\n",
    "from ipywidgets import Dropdown"
   ]
  },
  {
   "cell_type": "markdown",
   "metadata": {},
   "source": [
    "Загружаем данные в виде zip архива [ссылка](https://opendata.mkrf.ru/opendata/7705851331-egrkn/)"
   ]
  },
  {
   "cell_type": "code",
   "execution_count": null,
   "metadata": {},
   "outputs": [],
   "source": [
    "mkrf_path = './data/data-49-structure-6.csv.zip'\n",
    "zf = zipfile.ZipFile(mkrf_path) \n",
    "df = pd.read_csv(zf.open('data-49-structure-6.csv'))"
   ]
  },
  {
   "cell_type": "code",
   "execution_count": null,
   "metadata": {},
   "outputs": [],
   "source": [
    "fdf = df[['Объект', 'Регион', 'Вид объекта', 'Категория историко-культурного значения', 'На карте']].copy()\n",
    "fdf.head(2)"
   ]
  },
  {
   "cell_type": "code",
   "execution_count": null,
   "metadata": {},
   "outputs": [],
   "source": [
    "fdf = fdf[fdf['Регион'] == 'г. Санкт-Петербург'].dropna()"
   ]
  },
  {
   "cell_type": "code",
   "execution_count": null,
   "metadata": {},
   "outputs": [],
   "source": [
    "fdf.to_pickle(\"./data/spb-mkrf.pkl\")"
   ]
  },
  {
   "cell_type": "code",
   "execution_count": 2,
   "metadata": {},
   "outputs": [],
   "source": [
    "spbdf = pd.read_pickle(\"./data/spb-mkrf.pkl\")"
   ]
  },
  {
   "cell_type": "code",
   "execution_count": 3,
   "metadata": {},
   "outputs": [
    {
     "data": {
      "text/plain": [
       "array(['Памятник', 'Ансамбль', 'Достопримечательное место'], dtype=object)"
      ]
     },
     "execution_count": 3,
     "metadata": {},
     "output_type": "execute_result"
    }
   ],
   "source": [
    "rtypes = spbdf['Вид объекта'].unique()\n",
    "rtypes"
   ]
  },
  {
   "cell_type": "code",
   "execution_count": 4,
   "metadata": {},
   "outputs": [
    {
     "data": {
      "text/plain": [
       "array(['Федерального значения', 'Регионального значения'], dtype=object)"
      ]
     },
     "execution_count": 4,
     "metadata": {},
     "output_type": "execute_result"
    }
   ],
   "source": [
    "spbdf['Категория историко-культурного значения'].unique()"
   ]
  },
  {
   "cell_type": "code",
   "execution_count": 5,
   "metadata": {},
   "outputs": [],
   "source": [
    "icon_monument = AwesomeIcon(name='monument',marker_color='orange')\n",
    "icon_group = AwesomeIcon(name='object-group',marker_color='green')\n",
    "icon_landmark = AwesomeIcon(name='landmark',marker_color='red')\n",
    "markers = {e:[] for e in list(rtypes)}\n",
    "for r in spbdf.itertuples():\n",
    "    lng, lat = json.loads(r[5])['coordinates']\n",
    "    rtype = r[3]\n",
    "    if rtype == 'Памятник': \n",
    "        icon = icon_monument\n",
    "    elif rtype == 'Ансамбль':\n",
    "        icon = icon_group\n",
    "    elif rtype == 'Достопримечательное место':\n",
    "        icon = icon_landmark\n",
    "    markers[rtype].append(Marker(location=[lat, lng], icon=icon, title=str(r[1])))"
   ]
  },
  {
   "cell_type": "markdown",
   "metadata": {},
   "source": [
    "Эта карта использует Leaflet Marker Cluster plugin для отображения памятников на карте Санкт-Петербурга от Esri.\n",
    "\n",
    "Виджет выпадающего списка Ipywidgets Dropdown для просмотра объектов разных видов, заменяющий слои карты."
   ]
  },
  {
   "cell_type": "code",
   "execution_count": 6,
   "metadata": {
    "pycharm": {
     "name": "#%%\n"
    }
   },
   "outputs": [],
   "source": [
    "center = [59.928871952236804, 30.322255639340106]\n",
    "zoom = 12\n",
    "m = Map(center=center, zoom=zoom, basemap=basemaps.Esri.WorldStreetMap)"
   ]
  },
  {
   "cell_type": "code",
   "execution_count": 7,
   "metadata": {},
   "outputs": [
    {
     "data": {
      "application/vnd.jupyter.widget-view+json": {
       "model_id": "cd544e28b3a34dc2b1020d27568ef537",
       "version_major": 2,
       "version_minor": 0
      },
      "text/plain": [
       "Map(center=[59.928871952236804, 30.322255639340106], controls=(ZoomControl(options=['position', 'zoom_in_text'…"
      ]
     },
     "metadata": {},
     "output_type": "display_data"
    }
   ],
   "source": [
    "marker_cluster = MarkerCluster(markers=markers['Памятник'])\n",
    "m.add_layer(marker_cluster)\n",
    "# Adds a Dropdown widget\n",
    "dropdown = Dropdown(\n",
    "    options=list(markers.keys()),\n",
    "    value='Памятник',\n",
    "    description='Категории'\n",
    ")\n",
    "\n",
    "# Handles Dropdown control event\n",
    "def on_click(change):\n",
    "    type_name = change['new']\n",
    "    global marker_cluster\n",
    "    m.remove_layer(marker_cluster)\n",
    "    marker_cluster = MarkerCluster(markers=markers[type_name])\n",
    "    m.add_layer(marker_cluster)\n",
    "    \n",
    "dropdown.observe(on_click, 'value')\n",
    "\n",
    "# Adds control to the map\n",
    "basemap_control = WidgetControl(widget=dropdown, position='topright')\n",
    "m.add_control(basemap_control)\n",
    "\n",
    "m"
   ]
  },
  {
   "cell_type": "markdown",
   "metadata": {},
   "source": [
    "![rec](images/marker-clusters.gif)"
   ]
  },
  {
   "cell_type": "markdown",
   "metadata": {},
   "source": [
    "Эта карта использует Leaflet heatmap plugin для отображения зон города Санкт-Петербурга максимально насыщенных объектами культурного наследия. На этот раз используем основу Esri.WorldTopoMap"
   ]
  },
  {
   "cell_type": "code",
   "execution_count": 8,
   "metadata": {},
   "outputs": [],
   "source": [
    "center = [59.928871952236804, 30.322255639340106]\n",
    "zoom = 12\n",
    "mh = Map(center=center, zoom=zoom, basemap=basemaps.Esri.WorldTopoMap)"
   ]
  },
  {
   "cell_type": "code",
   "execution_count": 9,
   "metadata": {},
   "outputs": [],
   "source": [
    "def create_heatmap_data():\n",
    "    \"Return a list of some random lat/lng/value triples.\"\n",
    "    data = []\n",
    "    for r in spbdf.itertuples():\n",
    "        lng, lat = json.loads(r[5])['coordinates']\n",
    "        data.append([lat, lng, 1])\n",
    "    return data"
   ]
  },
  {
   "cell_type": "code",
   "execution_count": 10,
   "metadata": {},
   "outputs": [
    {
     "data": {
      "application/vnd.jupyter.widget-view+json": {
       "model_id": "29531d998df14cba88005756e1312072",
       "version_major": 2,
       "version_minor": 0
      },
      "text/plain": [
       "Map(center=[59.928871952236804, 30.322255639340106], controls=(ZoomControl(options=['position', 'zoom_in_text'…"
      ]
     },
     "metadata": {},
     "output_type": "display_data"
    }
   ],
   "source": [
    "heat = Heatmap(locations=create_heatmap_data(), \n",
    "               radius=20, blur=10, \n",
    "               gradient = {0.4: 'red', \n",
    "                           0.6: 'yellow', \n",
    "                           0.7: 'lime', \n",
    "                           0.8: 'cyan', \n",
    "                           1.0: 'blue'})\n",
    "mh.add_layer(heat)\n",
    "\n",
    "mh"
   ]
  },
  {
   "cell_type": "markdown",
   "metadata": {},
   "source": [
    "![rec](images/heatmap.gif)"
   ]
  },
  {
   "cell_type": "code",
   "execution_count": null,
   "metadata": {},
   "outputs": [],
   "source": []
  }
 ],
 "metadata": {
  "kernelspec": {
   "display_name": "Python 3",
   "language": "python",
   "name": "python3"
  },
  "language_info": {
   "codemirror_mode": {
    "name": "ipython",
    "version": 3
   },
   "file_extension": ".py",
   "mimetype": "text/x-python",
   "name": "python",
   "nbconvert_exporter": "python",
   "pygments_lexer": "ipython3",
   "version": "3.8.3rc1"
  }
 },
 "nbformat": 4,
 "nbformat_minor": 1
}