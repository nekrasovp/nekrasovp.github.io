{
 "cells": [
  {
   "cell_type": "markdown",
   "metadata": {},
   "source": [
    "# Pascal's Triangle\n",
    "\n",
    "\n",
    "Check out this link for other implementations and thoughts:\n",
    "- [Wikipdeia](https://en.wikipedia.org/wiki/Pascal%27s_triangle)\n",
    "- [OEIS](http://oeis.org/wiki/Pascal_triangle#Pascal.27s_triangle_and_binomial_coefficients)\n",
    "- [Number sequences](https://nekrasovp.bitbucket.io/number-sequences.html#Pascal'sTriangle)\n",
    "\n",
    "\n",
    "Pascal's Triangle connects to the Binomial Theorem (originally proved by Sir Isaac Newton) and to numerous topics in probability theory. The triangular and tetrahedral number sequences may be discovered lurking in its columns.\n",
    "\n",
    "We will create a functions which will help to build successive rows of Pascal's Triangle. By prepending and appending a zero element and adding vertically, a next row is obtained. For example, from [1] we get [0, 1] + [1, 0] = [1, 1]. From [1, 1] we get [0, 1, 1] + [1, 1, 0] = [1, 2, 1] and so on.\n",
    "\n",
    "![](https://upload.wikimedia.org/wikipedia/commons/0/0d/PascalTriangleAnimated2.gif)"
   ]
  },
  {
   "cell_type": "code",
   "execution_count": 20,
   "metadata": {},
   "outputs": [],
   "source": [
    "import math"
   ]
  },
  {
   "cell_type": "code",
   "execution_count": 21,
   "metadata": {
    "pycharm": {
     "is_executing": false
    }
   },
   "outputs": [],
   "source": [
    "def create(rowcount):\n",
    "    \"\"\"Create an empty list and then append lists of 0s, each list one longer than the previous\"\"\"\n",
    "    return [[0]*r for r in range(1, rowcount + 1)]"
   ]
  },
  {
   "cell_type": "code",
   "execution_count": 22,
   "metadata": {
    "pycharm": {
     "is_executing": false
    }
   },
   "outputs": [],
   "source": [
    "def populate(pt):\n",
    "    \"\"\"Populate an uninitialized list with actual values\"\"\"\n",
    "    for r in range(0, len(pt)):\n",
    "        for c in range(0, len(pt[r])):\n",
    "            pt[r][c] = math.factorial(r) / (math.factorial(c) * math.factorial(r - c))"
   ]
  },
  {
   "cell_type": "code",
   "execution_count": 23,
   "metadata": {
    "pycharm": {
     "is_executing": false
    }
   },
   "outputs": [],
   "source": [
    "def print_left(pt):\n",
    "    \"\"\"Prints the triangle in a left-aligned format to demonstrate data structure\"\"\"\n",
    "    for r in range(0, len(pt)):\n",
    "        for c in range(0, len(pt[r])):\n",
    "            print('{:>4}'.format(int(pt[r][c])), end=\"\")\n",
    "        print()"
   ]
  },
  {
   "cell_type": "code",
   "execution_count": 24,
   "metadata": {
    "pycharm": {
     "is_executing": false
    }
   },
   "outputs": [],
   "source": [
    "def print_centre(pt):\n",
    "    \"\"\"Prints the triangle in a conventional centred format\"\"\"\n",
    "    inset = int(((((len(pt) * 2) - 1) / 2) * 3))\n",
    "    for r in range(0, len(pt)):\n",
    "        print(\" \" * inset, end=\"\")\n",
    "        for c in range(0, len(pt[r])):\n",
    "            print('{:>3}   '.format(int(pt[r][c])), end=\"\")\n",
    "        print()\n",
    "        inset-= 3"
   ]
  },
  {
   "cell_type": "code",
   "execution_count": 25,
   "metadata": {
    "pycharm": {
     "is_executing": false
    }
   },
   "outputs": [
    {
     "data": {
      "text/plain": [
       "[[0],\n",
       " [0, 0],\n",
       " [0, 0, 0],\n",
       " [0, 0, 0, 0],\n",
       " [0, 0, 0, 0, 0],\n",
       " [0, 0, 0, 0, 0, 0],\n",
       " [0, 0, 0, 0, 0, 0, 0],\n",
       " [0, 0, 0, 0, 0, 0, 0, 0],\n",
       " [0, 0, 0, 0, 0, 0, 0, 0, 0]]"
      ]
     },
     "execution_count": 25,
     "metadata": {},
     "output_type": "execute_result"
    }
   ],
   "source": [
    "pt = create(9)\n",
    "pt"
   ]
  },
  {
   "cell_type": "code",
   "execution_count": 26,
   "metadata": {
    "pycharm": {
     "is_executing": false
    }
   },
   "outputs": [
    {
     "data": {
      "text/plain": [
       "[[1.0],\n",
       " [1.0, 1.0],\n",
       " [1.0, 2.0, 1.0],\n",
       " [1.0, 3.0, 3.0, 1.0],\n",
       " [1.0, 4.0, 6.0, 4.0, 1.0],\n",
       " [1.0, 5.0, 10.0, 10.0, 5.0, 1.0],\n",
       " [1.0, 6.0, 15.0, 20.0, 15.0, 6.0, 1.0],\n",
       " [1.0, 7.0, 21.0, 35.0, 35.0, 21.0, 7.0, 1.0],\n",
       " [1.0, 8.0, 28.0, 56.0, 70.0, 56.0, 28.0, 8.0, 1.0]]"
      ]
     },
     "execution_count": 26,
     "metadata": {},
     "output_type": "execute_result"
    }
   ],
   "source": [
    "populate(pt)\n",
    "pt"
   ]
  },
  {
   "cell_type": "code",
   "execution_count": 27,
   "metadata": {
    "pycharm": {
     "is_executing": false
    }
   },
   "outputs": [
    {
     "name": "stdout",
     "output_type": "stream",
     "text": [
      "   1\n",
      "   1   1\n",
      "   1   2   1\n",
      "   1   3   3   1\n",
      "   1   4   6   4   1\n",
      "   1   5  10  10   5   1\n",
      "   1   6  15  20  15   6   1\n",
      "   1   7  21  35  35  21   7   1\n",
      "   1   8  28  56  70  56  28   8   1\n"
     ]
    }
   ],
   "source": [
    "print_left(pt)"
   ]
  },
  {
   "cell_type": "markdown",
   "metadata": {},
   "source": [
    "Notice the triangular numbers (1, 3, 6, 10...) and tetrahedral number sequences (1, 4, 10, 20...) appear in the slanted columns. [learn more...](http://www.4dsolutions.net/ocn/numeracy0.html)"
   ]
  },
  {
   "cell_type": "code",
   "execution_count": 28,
   "metadata": {
    "pycharm": {
     "is_executing": false
    }
   },
   "outputs": [
    {
     "name": "stdout",
     "output_type": "stream",
     "text": [
      "                           1   \n",
      "                        1     1   \n",
      "                     1     2     1   \n",
      "                  1     3     3     1   \n",
      "               1     4     6     4     1   \n",
      "            1     5    10    10     5     1   \n",
      "         1     6    15    20    15     6     1   \n",
      "      1     7    21    35    35    21     7     1   \n",
      "   1     8    28    56    70    56    28     8     1   \n"
     ]
    }
   ],
   "source": [
    "print_centre(pt)"
   ]
  },
  {
   "cell_type": "markdown",
   "metadata": {},
   "source": [
    "Each number in Pascal's Triangle may be understood as the number of unique pathways to that position, were falling balls introduced through the top and allowed to fall left or right to the next row down. This apparatus is sometimes called a Galton Board.\n",
    "\n",
    "For example, a ball could reach the 6 in the middle of the 5th row going 1,1,2,3,6 in four ways (counting left and right mirrors), or 1,1,1,3,6 in two ways. The likely pattern when many balls fall through this maze will be a bell curve, as shown in the simulation below.\n",
    "\n",
    "\n",
    "![Pascal Triangle 4 paths](https://upload.wikimedia.org/wikipedia/commons/thumb/f/f6/Pascal%27s_Triangle_4_paths.svg/685px-Pascal%27s_Triangle_4_paths.svg.png)\n"
   ]
  },
  {
   "cell_type": "code",
   "execution_count": null,
   "metadata": {},
   "outputs": [],
   "source": []
  }
 ],
 "metadata": {
  "kernelspec": {
   "display_name": "Python 3",
   "language": "python",
   "name": "python3"
  },
  "language_info": {
   "codemirror_mode": {
    "name": "ipython",
    "version": 3
   },
   "file_extension": ".py",
   "mimetype": "text/x-python",
   "name": "python",
   "nbconvert_exporter": "python",
   "pygments_lexer": "ipython3",
   "version": "3.7.5"
  }
 },
 "nbformat": 4,
 "nbformat_minor": 1
}
